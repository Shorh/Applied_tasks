{
 "cells": [
  {
   "cell_type": "code",
   "execution_count": null,
   "metadata": {},
   "outputs": [],
   "source": [
    "import openpyxl\n",
    "import pandas as pd\n",
    "import numpy as np\n",
    "import pyodbc\n",
    "import struct\n",
    "import json\n",
    "\n",
    "from os import name\n",
    "from os.path import join\n",
    "from openpyxl.styles import Font, Color, Alignment, PatternFill, Border, Side\n",
    "\n",
    "from data.write_excel import (\n",
    "    auto_dimension, add_result, result_style, table_record, create_month_report, \n",
    "    table_style, table_report_style, margin_res, gross_record)"
   ]
  },
  {
   "cell_type": "code",
   "execution_count": null,
   "metadata": {},
   "outputs": [],
   "source": [
    "path = join('config', 'config.json')\n",
    "with open(path, encoding='utf8') as fin:\n",
    "    data = json.load(fin)\n",
    "    dsn = data['dsn']\n",
    "    uid = data['uid']\n",
    "    pwd = data['pwd']\n",
    "    base = data['base']\n",
    "    driver = data['driver']\n",
    "    server = data['server']\n",
    "    database = data['database']\n",
    "\n",
    "pd.options.display.max_columns = 100"
   ]
  },
  {
   "cell_type": "code",
   "execution_count": null,
   "metadata": {},
   "outputs": [],
   "source": [
    "def handle_datetimeoffset(dto_value):\n",
    "    # ref: https://github.com/mkleehammer/pyodbc/issues/134#issuecomment-281739794\n",
    "    tup = struct.unpack(\"<6hI2h\", dto_value) # e.g., (2017, 3, 16, 10, 35, 18, 0, -6, 0)\n",
    "    tweaked = [tup[i] // 100 if i == 6 else tup[i] for i in range(len(tup))]\n",
    "    return \"{:04d}-{:02d}-{:02d} {:02d}:{:02d}:{:02d}.{:07d} {:+03d}:{:02d}\".format(*tweaked)"
   ]
  },
  {
   "cell_type": "code",
   "execution_count": null,
   "metadata": {},
   "outputs": [],
   "source": [
    "if name == 'nt':\n",
    "    connect_db = pyodbc.connect(f'DRIVER={driver};SERVER={server};DATABASE={database};UID={uid};PWD={pwd}')\n",
    "else:\n",
    "    connect_db = pyodbc.connect(f'DSN={dsn};UID={uid};PWD={pwd}')\n",
    "connect_db.add_output_converter(-155, handle_datetimeoffset)"
   ]
  },
  {
   "cell_type": "markdown",
   "metadata": {},
   "source": [
    "# Даты"
   ]
  },
  {
   "cell_type": "code",
   "execution_count": null,
   "metadata": {},
   "outputs": [],
   "source": [
    "today = pd.Timestamp.today()\n",
    "# today = pd.Timestamp('2019-09-02')\n",
    "today = pd.Timestamp(year=today.year, month=today.month, day=today.day)\n",
    "month = (today - pd.Timedelta(days=3)).month\n",
    "year = (today - pd.Timedelta(days=3)).year\n",
    "\n",
    "months = ['', 'ЯНВАРЬ', 'ФЕВРАЛЬ', 'МАРТ', \n",
    "          'АПРЕЛЬ', 'МАЙ', 'ИЮНЬ',\n",
    "          'ИЮЛЬ', 'АВГУСТ', 'СЕНТЯБРЬ',\n",
    "          'ОКТЯБРЬ', 'НОЯБРЬ', 'ДЕКАБРЬ',]\n",
    "\n",
    "weekdays = ['вс', 'пн', 'вт', 'ср', 'чт', 'пт', 'сб']\n",
    "\n",
    "start_last_week = today + pd.Timedelta(days=-today.weekday(), weeks=-1)\n",
    "end_last_week = start_last_week + pd.Timedelta(days=6)\n",
    "last_day_for_fine_and_done = start_last_week + pd.Timedelta(days=11)"
   ]
  },
  {
   "cell_type": "markdown",
   "metadata": {},
   "source": [
    "# Исходные таблицы"
   ]
  },
  {
   "cell_type": "code",
   "execution_count": null,
   "metadata": {},
   "outputs": [],
   "source": [
    "sql = f'SELECT * FROM {base}.[BaseQuestionary];'\n",
    "base_questionary = pd.read_sql(sql, connect_db)"
   ]
  },
  {
   "cell_type": "code",
   "execution_count": null,
   "metadata": {},
   "outputs": [],
   "source": [
    "sql = f'SELECT * FROM {base}.[Questionarys];'\n",
    "questionarys = pd.read_sql(sql, connect_db)\n",
    "\n",
    "questionarys['Referrer'].fillna('', inplace=True)\n",
    "questionarys['ShiftCount'].fillna(0, inplace=True)\n",
    "questionarys['Vozrast'].fillna('', inplace=True)\n",
    "questionarys['Nomerkarty'].fillna('', inplace=True)\n",
    "questionarys['Vladeleckarty'].fillna('', inplace=True)\n",
    "questionarys['Telefon'].fillna('', inplace=True)"
   ]
  },
  {
   "cell_type": "code",
   "execution_count": null,
   "metadata": {},
   "outputs": [],
   "source": [
    "sql = f'SELECT * FROM {base}.[EmployeeStatus];'\n",
    "employee_status = pd.read_sql(sql, connect_db)"
   ]
  },
  {
   "cell_type": "code",
   "execution_count": null,
   "metadata": {},
   "outputs": [],
   "source": [
    "sql = f'SELECT * FROM {base}.[EmploymentStatus];'\n",
    "employment_status = pd.read_sql(sql, connect_db)"
   ]
  },
  {
   "cell_type": "code",
   "execution_count": null,
   "metadata": {},
   "outputs": [],
   "source": [
    "sql = f'SELECT * FROM {base}.[EmploymentType];'\n",
    "employment_type = pd.read_sql(sql, connect_db)"
   ]
  },
  {
   "cell_type": "code",
   "execution_count": null,
   "metadata": {},
   "outputs": [],
   "source": [
    "sql = f'SELECT * FROM {base}.[Specialty];'\n",
    "specialty = pd.read_sql(sql, connect_db)"
   ]
  },
  {
   "cell_type": "code",
   "execution_count": null,
   "metadata": {},
   "outputs": [],
   "source": [
    "sql = f'SELECT * FROM {base}.[Appearance];'\n",
    "appearance = pd.read_sql(sql, connect_db)"
   ]
  },
  {
   "cell_type": "code",
   "execution_count": null,
   "metadata": {},
   "outputs": [],
   "source": [
    "sql = f'SELECT * FROM {base}.[Citizenship];'\n",
    "citizenship = pd.read_sql(sql, connect_db)"
   ]
  },
  {
   "cell_type": "code",
   "execution_count": null,
   "metadata": {},
   "outputs": [],
   "source": [
    "sql = f'SELECT * FROM {base}.[InterstSource];'\n",
    "interst_source = pd.read_sql(sql, connect_db)"
   ]
  },
  {
   "cell_type": "code",
   "execution_count": null,
   "metadata": {},
   "outputs": [],
   "source": [
    "sql = f'SELECT * FROM {base}.[InterstSourceDetails];'\n",
    "interst_source_details = pd.read_sql(sql, connect_db)"
   ]
  },
  {
   "cell_type": "code",
   "execution_count": null,
   "metadata": {},
   "outputs": [],
   "source": [
    "sql = f'SELECT * FROM {base}.[PhoneType];'\n",
    "phone_type = pd.read_sql(sql, connect_db)\n",
    "\n",
    "sql = f'SELECT * FROM {base}.[QuestionaryPhones];'\n",
    "questionary_phones = pd.read_sql(sql, connect_db)\n",
    "\n",
    "questionary_phones['CommunicationType'] = [phone_type[phone_type['Id'] == x]['Name'].values.item(0)\n",
    "                                           if pd.notna(x) else ''\n",
    "                                           for x in questionary_phones['CommunicationType']]"
   ]
  },
  {
   "cell_type": "code",
   "execution_count": null,
   "metadata": {},
   "outputs": [],
   "source": [
    "sql = f'SELECT * FROM {base}.[BaseFacility];'\n",
    "base_facility = pd.read_sql(sql, connect_db)\n",
    "\n",
    "def add_object(s):\n",
    "    return f'Object{s}'\n",
    "base_facility.columns = list(map(add_object, base_facility.columns))"
   ]
  },
  {
   "cell_type": "code",
   "execution_count": null,
   "metadata": {},
   "outputs": [],
   "source": [
    "sql = f'SELECT * FROM {base}.[FineReason];'\n",
    "fine_reason = pd.read_sql(sql, connect_db)"
   ]
  },
  {
   "cell_type": "code",
   "execution_count": null,
   "metadata": {},
   "outputs": [],
   "source": [
    "sql = f'SELECT * FROM {base}.[BalanceType];'\n",
    "balance_type = pd.read_sql(sql, connect_db)"
   ]
  },
  {
   "cell_type": "code",
   "execution_count": null,
   "metadata": {},
   "outputs": [],
   "source": [
    "sql = f'SELECT * FROM {base}.[Shift];'\n",
    "shift = pd.read_sql(sql, connect_db)\n",
    "\n",
    "shift['IsShiftPaid'].fillna(False, inplace=True)\n",
    "shift['FineOrBonus'].fillna(0, inplace=True)\n",
    "shift['ResultOfShift'].fillna(0, inplace=True)"
   ]
  },
  {
   "cell_type": "code",
   "execution_count": null,
   "metadata": {},
   "outputs": [],
   "source": [
    "sql = f'SELECT * FROM {base}.[Partners];'\n",
    "partners = pd.read_sql(sql, connect_db)"
   ]
  },
  {
   "cell_type": "code",
   "execution_count": null,
   "metadata": {},
   "outputs": [],
   "source": [
    "sql = f'SELECT * FROM {base}.[Contact];'\n",
    "contact = pd.read_sql(sql, connect_db)"
   ]
  },
  {
   "cell_type": "code",
   "execution_count": null,
   "metadata": {},
   "outputs": [],
   "source": [
    "sql = f'SELECT * FROM {base}.[BaseCity];'\n",
    "base_city = pd.read_sql(sql, connect_db)"
   ]
  },
  {
   "cell_type": "code",
   "execution_count": null,
   "metadata": {},
   "outputs": [],
   "source": [
    "sql = f'SELECT * FROM {base}.[RateForPartner];'\n",
    "rate_for_partner = pd.read_sql(sql, connect_db)"
   ]
  },
  {
   "cell_type": "code",
   "execution_count": null,
   "metadata": {},
   "outputs": [],
   "source": [
    "sql = f'SELECT * FROM {base}.[InteriorRates];'\n",
    "interior_rates = pd.read_sql(sql, connect_db)"
   ]
  },
  {
   "cell_type": "code",
   "execution_count": null,
   "metadata": {},
   "outputs": [],
   "source": [
    "sql = f'SELECT * FROM {base}.[AppointedStaff];'\n",
    "appointed_staff = pd.read_sql(sql, connect_db)"
   ]
  },
  {
   "cell_type": "markdown",
   "metadata": {},
   "source": [
    "# Данные по сотрудникам"
   ]
  },
  {
   "cell_type": "code",
   "execution_count": null,
   "metadata": {},
   "outputs": [],
   "source": [
    "merge = ['Id', 'Referrer', 'Obekt', 'InterstSourceDetails', 'ShiftCount', 'Vozrast', 'Nomerkarty', 'Vladeleckarty', 'Telefon']\n",
    "\n",
    "full_questionarys = base_questionary.merge(questionarys[merge], on='Id', how='left', validate='m:1')\n",
    "# full_questionarys = full_questionarys.merge(questionary_phones, left_on='Id', right_on='Questionary', how='left', validate='m:1')\n",
    "# full_questionarys = full_questionarys.merge(base_facility, left_on='Obekt', right_on='ObjectId', how='left', validate='m:1')\n",
    "\n",
    "full_questionarys['EmployeeStatus'] = [employee_status[employee_status['Id'] == x]['Name'].values.item(0)\n",
    "                                       if pd.notna(x) else ''\n",
    "                                       for x in full_questionarys['EmployeeStatus']]\n",
    "full_questionarys['EmploymentStatus'] = [employment_status[employment_status['Id'] == x]['Name'].values.item(0)\n",
    "                                         if pd.notna(x) else ''\n",
    "                                         for x in full_questionarys['EmploymentStatus']]\n",
    "full_questionarys['EmploymentType'] = [employment_type[employment_type['Id'] == x]['Name'].values.item(0)\n",
    "                                       if pd.notna(x) else ''\n",
    "                                       for x in full_questionarys['EmploymentType']]\n",
    "full_questionarys['Speciality'] = [specialty[specialty['Id'] == x]['Name'].values.item(0)\n",
    "                                   if pd.notna(x) else ''\n",
    "                                   for x in full_questionarys['Speciality']]\n",
    "full_questionarys['Appearance'] = [appearance[appearance['Id'] == x]['Name'].values.item(0)\n",
    "                                   if pd.notna(x) else ''\n",
    "                                   for x in full_questionarys['Appearance']]\n",
    "full_questionarys['Citizenship'] = [citizenship[citizenship['Id'] == x]['Name'].values.item(0)\n",
    "                                   if pd.notna(x) else ''\n",
    "                                   for x in full_questionarys['Citizenship']]\n",
    "full_questionarys['InterstSource'] = [interst_source[interst_source['Id'] == x]['Name'].values.item(0)\n",
    "                                   if pd.notna(x) else ''\n",
    "                                   for x in full_questionarys['InterstSource']]\n",
    "full_questionarys['InterstSourceDetails'] = [interst_source_details[interst_source_details['Id'] == x]['Name'].values.item(0)\n",
    "                                             if pd.notna(x) else ''\n",
    "                                             for x in full_questionarys['InterstSourceDetails']]\n",
    "\n",
    "drop = ['PassportIssuedBy', 'Specialization', 'FactAddress', 'MidicalCardExpireDate', 'WatchValidity', 'DistantWorkCompany',\n",
    "       'Address', 'IsMedicalCard', 'ShiftsCount', 'DistantWorkExperience', 'HRmanager', 'Gender', 'Obekt', \n",
    "       'CustObjVersion', 'IdCreateBy', 'CreateDate', 'IdUpdateBy', 'UpdateDate']\n",
    "\n",
    "full_questionarys.drop(drop, axis=1, inplace=True)"
   ]
  },
  {
   "cell_type": "code",
   "execution_count": null,
   "metadata": {},
   "outputs": [],
   "source": [
    "full_questionarys[full_questionarys['Id'] == 184130]"
   ]
  },
  {
   "cell_type": "markdown",
   "metadata": {},
   "source": [
    "# Данные по оплатам"
   ]
  },
  {
   "cell_type": "code",
   "execution_count": null,
   "metadata": {},
   "outputs": [],
   "source": [
    "def add_price(x):\n",
    "    partner, specialty = x\n",
    "    if pd.notna(partner) and pd.notna(specialty):\n",
    "        return rate_for_partner[(rate_for_partner['Klient'] == partner) & \n",
    "                                (rate_for_partner['Specialty'] == specialty)]['Price'].values.item(0)\n",
    "    else:\n",
    "        return 0\n",
    "\n",
    "shift_result = shift.merge(base_facility, left_on='Facility', right_on='ObjectId', how='left', validate='m:1')\n",
    "\n",
    "shift_result['FineReason'] = [fine_reason[fine_reason['Id'] == x]['Name'].values.item(0)\n",
    "                              if pd.notna(x) else ''\n",
    "                              for x in shift_result['FineReason']]\n",
    "\n",
    "shift_result = shift_result.rename(columns={'Id_x': 'Id'})\n",
    "shift_result.index = shift_result['Id']\n",
    "\n",
    "drop = ['ObjectTaskMaster', 'IsAuto', 'Comment', 'Id', \n",
    "        'ObjectCustObjVersion', 'ObjectIdCreateBy', 'ObjectCreateDate', 'ObjectIdUpdateBy', 'ObjectUpdateDate']\n",
    "shift_result.drop(drop, axis=1, inplace=True)\n",
    "\n",
    "shift_result['Date'] = [pd.Timestamp(date[:10]) for date in shift_result['Date']]\n",
    "shift_result['PaymentDate'] = [pd.Timestamp(date[:10]) \n",
    "                               if date else pd.Timestamp('1900-01-01')\n",
    "                               for date in shift_result['PaymentDate']]\n",
    "\n",
    "shift_result['PartnerName'] = [partners[partners['Id'] == x]['LegalName'].values.item(0)\n",
    "                               if pd.notna(x) else 'Владелец'\n",
    "                               for x in shift_result['Partner']]\n",
    "\n",
    "shift_result['WhoPaidMoney'] = [contact[contact['Id'] == x]['Partner'].values.item(0)\n",
    "                                if pd.notna(x) else ''\n",
    "                                for x in shift_result['WhoPaidMoney']]\n",
    "\n",
    "merge = ['Id', 'InnerRate', 'Specialty', 'Vydanonalichnymi']\n",
    "shift_result = shift_result.merge(appointed_staff[merge], left_on='AppointedStaff', right_on='Id', how='left', validate='m:1')\n",
    "shift_result['Vydanonalichnymi'].fillna(0, inplace=True)\n",
    "for index, row in shift_result[(shift_result['Vydanonalichnymi'] != 0)].iterrows():\n",
    "    row['WorkedHours'] = 0\n",
    "    row['FineOrBonus'] = 0\n",
    "    row['IsShiftPaid'] = False\n",
    "    row['IsComeToWork'] = None\n",
    "    row['PaymentDate'] = row['Date']\n",
    "    row['Type'] = 127\n",
    "    row['WhoPaidMoney'] = row['Partner']\n",
    "    shift_result = shift_result.append(row, ignore_index=True)\n",
    "\n",
    "shift_result['InnerRate_y'] = [interior_rates[interior_rates['Id'] == x]['LocalWorkPrice'].values.item(0)\n",
    "                               if pd.notna(x) else 0\n",
    "                               for x in shift_result['InnerRate_y']]\n",
    "\n",
    "shift_result = shift_result.assign(PriceForHour=shift_result[['Partner', 'Specialty']].apply(add_price, axis=1))\n",
    "shift_result['WorkedHours'].fillna(0, inplace=True)\n",
    "shift_result['InnerRate_total'] = [shift_result['InnerRate_x'][i]\n",
    "                                   if pd.notna(shift_result['InnerRate_x'][i]) else shift_result['InnerRate_y'][i]\n",
    "                                   for i, _ in enumerate(shift_result['InnerRate_y'])]\n",
    "shift_result['ResultOfShift_total'] = [shift_result['WorkedHours'][i] * shift_result['InnerRate_total'][i] \n",
    "                                       if shift_result['ResultOfShift'][i] == 0 \n",
    "                                       else shift_result['ResultOfShift'][i]\n",
    "                                       for i, _ in enumerate(shift_result['WorkedHours'])]\n",
    "shift_result['ResultOfShift_total'] = [cash\n",
    "                                       if shift_result['ResultOfShift_total'][i] == 0 \n",
    "                                       else shift_result['ResultOfShift_total'][i]\n",
    "                                       for i, cash in enumerate(shift_result['Vydanonalichnymi'])]\n",
    "shift_result['Price_total'] = shift_result['WorkedHours'] * shift_result['PriceForHour']\n",
    "shift_result['Margin'] = shift_result['Price_total'] - shift_result['ResultOfShift_total']\n",
    "shift_result['month'] = [date.month for date in shift_result['Date']]\n",
    "\n",
    "drop = ['AppointedStaff', 'ObjectSheduleFrom', 'ObjectSheduleTo', 'ObjectWayDescription', 'Id', \n",
    "       'CustObjVersion', 'IdCreateBy', 'CreateDate', 'IdUpdateBy', 'UpdateDate']\n",
    "shift_result.drop(drop, axis=1, inplace=True)"
   ]
  },
  {
   "cell_type": "code",
   "execution_count": null,
   "metadata": {},
   "outputs": [],
   "source": [
    "shift_result[(shift_result['Questionary'] == 184172)]"
   ]
  },
  {
   "cell_type": "markdown",
   "metadata": {},
   "source": [
    "# ЗП ведомость:  \n",
    "* столбец выдано - это уже выдано наличными  \n",
    "* столбец долг - это остаток нашей задолженности перед работниками после вычета штрафов и уже выданных денег наличными.  \n",
    "\n",
    "В ведомость надо добавить:  \n",
    "* столбец с информацией на каком объекте был штраф и дата штрафа  \n",
    "* Тоже с выданными наличными, на каком объекте и дата выдачи наличных.   \n",
    "* Штрафы в ведомости отображаются не только за прошедшую неделю, но и за текущую до дня выдачи денег (пятница). Например работник отработал прошлую неделю без штрафов, в пн на этой неделе начислено 5000р к выдаче, но во вт он не вышел, значит этот штраф с текущей недели мы учитываем в ведомости за прошлую неделю.  \n",
    "\n",
    "Ведомость составляется еженедельно в понедельник за прошедшую неделю"
   ]
  },
  {
   "cell_type": "markdown",
   "metadata": {},
   "source": [
    "## Таблицы с ведомостями"
   ]
  },
  {
   "cell_type": "code",
   "execution_count": null,
   "metadata": {},
   "outputs": [],
   "source": [
    "group_by = ['Questionary']\n",
    "col_shift = group_by + ['ResultOfShift_total']\n",
    "\n",
    "group_by_fine = group_by\n",
    "col_fine = group_by_fine + ['FineOrBonus']\n",
    "\n",
    "group_by_fine_detail = group_by + ['ObjectName', 'Date', 'FineReason']\n",
    "col_fine_detail = group_by_fine_detail + ['FineOrBonus']\n",
    "\n",
    "group_by_done = group_by\n",
    "col_done = group_by_done + ['ResultOfShift_total']\n",
    "\n",
    "group_by_done_detail = group_by + ['WhoPaidMoney', 'PaymentDate']\n",
    "col_done_detail = group_by_done_detail + ['ResultOfShift_total']\n",
    "\n",
    "salary_fine = shift_result[col_fine][(shift_result['Type'] == 126) & \n",
    "                                     (shift_result['Date'] >= start_last_week) & \n",
    "                                     (shift_result['Date'] <= last_day_for_fine_and_done)]\n",
    "salary_fine = salary_fine.groupby(group_by_fine).agg('sum').reset_index()\n",
    "salary_fine = salary_fine.rename(columns={'FineOrBonus': 'Штраф'})\n",
    "\n",
    "salary_done = shift_result[col_done][(shift_result['Type'] != 126) & \n",
    "                                     (shift_result['IsShiftPaid'] == False) &\n",
    "                                     (shift_result['Date'] >= start_last_week) & \n",
    "                                     (shift_result['Date'] <= last_day_for_fine_and_done)]\n",
    "salary_done = salary_done.groupby(group_by_done).agg('sum').reset_index()\n",
    "salary_done = salary_done.rename(columns={'ResultOfShift_total': 'Выплачено'})\n",
    "\n",
    "salary_record = shift_result[col_shift][(shift_result['Type'] == 126) & \n",
    "                                        (shift_result['Date'] >= start_last_week) & \n",
    "                                        (shift_result['Date'] <= end_last_week)]\n",
    "salary_record = salary_record.groupby(group_by).agg('sum').reset_index()\n",
    "salary_record = salary_record.rename(columns={'ResultOfShift_total': 'Начислено'})\n",
    "salary_record = salary_record.merge(salary_done, on='Questionary', how='outer', validate='1:1')\n",
    "salary_record = salary_record.merge(salary_fine, on='Questionary', how='outer', validate='1:1')\n",
    "\n",
    "salary_fine_detail = shift_result[col_fine_detail][(shift_result['FineOrBonus'] != 0) & \n",
    "                                                   (shift_result['Date'] >= start_last_week) & \n",
    "                                                   (shift_result['Date'] <= last_day_for_fine_and_done)]\n",
    "salary_fine_detail = salary_fine_detail.groupby(group_by_fine_detail).agg('sum').reset_index()\n",
    "salary_fine_detail = salary_fine_detail.rename(columns={'FineOrBonus': 'Штраф', 'ObjectName': 'На каком объекте был штраф', \n",
    "                                                        'Date': 'Дата штрафа', 'FineReason': 'Причина штрафа'})\n",
    "\n",
    "salary_done_detail = shift_result[col_done_detail][(shift_result['Type'] != 126) & \n",
    "                                                   (shift_result['IsShiftPaid'] == False) &\n",
    "                                                   (shift_result['Date'] >= start_last_week) &\n",
    "                                                   (shift_result['Date'] <= last_day_for_fine_and_done)]\n",
    "salary_done_detail['WhoPaidMoney'] = [partners[partners['Id'] == x]['LegalName'].values.item(0)\n",
    "                                      if pd.notna(x) else 'Зарплата'\n",
    "                                      for x in salary_done_detail['WhoPaidMoney']]\n",
    "salary_done_detail = salary_done_detail.groupby(group_by_done_detail).agg('sum').reset_index()\n",
    "salary_done_detail = salary_done_detail.rename(columns={'ResultOfShift_total': 'Выплачено', 'WhoPaidMoney': 'Кем выплачено', \n",
    "                                                        'PaymentDate': 'Дата выплаты'})\n",
    "\n",
    "salary_record.fillna(0, inplace=True)\n",
    "salary_fine_detail.fillna(0, inplace=True)\n",
    "salary_done_detail.fillna(0, inplace=True)\n",
    "\n",
    "merge_record = ['Id', 'FIO', 'Nomerkarty', 'Vladeleckarty']\n",
    "merge_other = ['Id', 'FIO']\n",
    "salary_record = salary_record.merge(full_questionarys[merge_record], left_on='Questionary', right_on='Id', how='left', validate='m:1')\n",
    "salary_fine_detail = salary_fine_detail.merge(full_questionarys[merge_other], left_on='Questionary', right_on='Id', \n",
    "                                              how='left', validate='m:1')\n",
    "salary_done_detail = salary_done_detail.merge(full_questionarys[merge_other], left_on='Questionary', right_on='Id', \n",
    "                                              how='left', validate='m:1')\n",
    "\n",
    "drop = ['Questionary', 'Id']\n",
    "salary_record.drop(drop, axis=1, inplace=True)\n",
    "salary_fine_detail.drop(drop, axis=1, inplace=True)\n",
    "salary_done_detail.drop(drop, axis=1, inplace=True)"
   ]
  },
  {
   "cell_type": "code",
   "execution_count": null,
   "metadata": {},
   "outputs": [],
   "source": [
    "def duty(x):\n",
    "    shift, fine, done = x\n",
    "    if shift > done - fine:\n",
    "        return shift - done + fine\n",
    "    else:\n",
    "        return 0\n",
    "    \n",
    "salary_record = salary_record.assign(duty=salary_record[['Начислено', 'Штраф', 'Выплачено']].apply(duty, axis=1))\n",
    "salary_record = salary_record.rename(columns={'FIO': 'ФИО', 'Nomerkarty': '№ карты', 'Vladeleckarty': 'Владелец карты', \n",
    "                                              'duty': 'Долг'})\n",
    "salary_fine_detail = salary_fine_detail.rename(columns={'FIO': 'ФИО'})\n",
    "salary_done_detail = salary_done_detail.rename(columns={'FIO': 'ФИО'})\n",
    "\n",
    "columns_record = ['ФИО', '№ карты', 'Владелец карты', 'Начислено', 'Штраф', 'Выплачено', 'Долг']\n",
    "columns_fine_detail = ['ФИО', 'Причина штрафа', 'На каком объекте был штраф', 'Дата штрафа', 'Штраф']\n",
    "columns_done_detail = ['ФИО','Кем выплачено', 'Дата выплаты', 'Выплачено']\n",
    "\n",
    "salary_record = salary_record[columns_record]\n",
    "salary_record.sort_values(by=['Долг'], ascending=False, inplace=True)\n",
    "salary_fine_detail = salary_fine_detail[columns_fine_detail]\n",
    "salary_done_detail = salary_done_detail[columns_done_detail]"
   ]
  },
  {
   "cell_type": "code",
   "execution_count": null,
   "metadata": {},
   "outputs": [],
   "source": [
    "salary_done_detail"
   ]
  },
  {
   "cell_type": "markdown",
   "metadata": {},
   "source": [
    "# Запись в Excel"
   ]
  },
  {
   "cell_type": "code",
   "execution_count": null,
   "metadata": {},
   "outputs": [],
   "source": [
    "file_name = f'{today:%Y-%m-%d}. salary.xlsx'\n",
    "sheet_name = 'salary_record'\n",
    "font_title = Font(bold=True, size=14, color='0C4561')"
   ]
  },
  {
   "cell_type": "code",
   "execution_count": null,
   "metadata": {},
   "outputs": [],
   "source": [
    "work_book = openpyxl.Workbook()\n",
    "sheet = work_book.active\n",
    "sheet.title = sheet_name\n",
    "\n",
    "current_row = 1\n",
    "sheet.cell(row=current_row, column=1).value = f'ВЕДОМОСТЬ ПО ЗП'\n",
    "sheet.cell(row=current_row, column=1).font = font_title\n",
    "current_row += 1\n",
    "\n",
    "sheet.cell(row=current_row, column=1).value = f'Дата формирования отчета: '\n",
    "sheet.cell(row=current_row, column=2).value = f'{today:%d.%m.%Y}'\n",
    "current_row += 1\n",
    "\n",
    "sheet.cell(row=current_row, column=1).value = f'Отчетные даты: '\n",
    "sheet.cell(row=current_row, column=2).value = f'{start_last_week:%d.%m.%Y} - {end_last_week:%d.%m.%Y}'\n",
    "current_row += 1\n",
    "\n",
    "sheet.cell(row=current_row, column=1).value = f'Даты учитываемых штрафов и выплат: '\n",
    "sheet.cell(row=current_row, column=2).value = f'{start_last_week:%d.%m.%Y} - {last_day_for_fine_and_done:%d.%m.%Y}'\n",
    "current_row += 1\n",
    "\n",
    "work_book.save(file_name)"
   ]
  },
  {
   "cell_type": "code",
   "execution_count": null,
   "metadata": {},
   "outputs": [],
   "source": [
    "work_book = openpyxl.load_workbook(file_name)\n",
    "sheet = work_book[sheet_name]\n",
    "\n",
    "with pd.ExcelWriter(file_name, engine='openpyxl', mode='a', datetime_format='DD.MM.YYYY') as writer:\n",
    "    writer.book = work_book\n",
    "    writer.sheets = dict((ws.title, ws) for ws in work_book.worksheets)\n",
    "\n",
    "    res = ((1, 'ИТОГО'),\n",
    "           (4, sum(salary_record['Начислено'])),\n",
    "           (5, sum(salary_record['Штраф'])),\n",
    "           (6, sum(salary_record['Выплачено'])),\n",
    "           (7, sum(salary_record['Долг'])))\n",
    "    current_row = table_record(writer, sheet, salary_record, res, row=current_row, is_auto_dimension=True)\n",
    "\n",
    "    if salary_fine_detail.shape[0] != 0:\n",
    "        res = ((1, 'ИТОГО'),\n",
    "               (5, sum(salary_fine_detail['Штраф'])))\n",
    "        current_row = table_record(writer, sheet, salary_fine_detail, res, table_name='ШТРАФЫ', row=current_row)\n",
    "        \n",
    "    if salary_done_detail.shape[0] != 0:\n",
    "        res = ((1, 'ИТОГО'),\n",
    "               (4, sum(salary_done_detail['Выплачено'])))\n",
    "        current_row = table_record(writer, sheet, salary_done_detail, res, table_name='ВЫПЛАТЫ', row=current_row)\n",
    "\n",
    "work_book.save(file_name)"
   ]
  },
  {
   "cell_type": "markdown",
   "metadata": {},
   "source": [
    "# Табель"
   ]
  },
  {
   "cell_type": "code",
   "execution_count": null,
   "metadata": {},
   "outputs": [],
   "source": [
    "merge = ['Id', 'FIO']\n",
    "shift_for_report = shift_result.merge(full_questionarys[merge], left_on='Questionary', right_on='Id', how='left', validate='m:1')\n",
    "\n",
    "drop = ['FineOrBonus', 'ResultOfShift', 'IsShiftPaid', 'PaymentDate', 'IsComeToWork', 'InnerRate_x', 'InstanceDate', \n",
    "        'WhoPaidMoney', 'FineReason', 'Id', 'Questionary', 'ObjectPartner', 'InnerRate_y', 'Specialty', 'PriceForHour', \n",
    "        'InnerRate_total']\n",
    "shift_for_report.drop(drop, axis=1, inplace=True)\n",
    "\n",
    "shift_for_report.sort_values(by=['FIO'], inplace=True)\n",
    "shift_for_report = shift_for_report[shift_for_report['month'] == month]\n",
    "\n",
    "done_for_report = shift_for_report[shift_for_report['Type'] != 126]\n",
    "shift_for_report = shift_for_report[shift_for_report['Type'] == 126]"
   ]
  },
  {
   "cell_type": "code",
   "execution_count": null,
   "metadata": {},
   "outputs": [],
   "source": [
    "done_for_report.head()"
   ]
  },
  {
   "cell_type": "code",
   "execution_count": null,
   "metadata": {},
   "outputs": [],
   "source": [
    "group_by = ['Partner', 'PartnerName', 'ObjectName', 'ObjectAddress']\n",
    "shift_for_report_unique = pd.DataFrame({'WorkedHours' : shift_for_report.groupby(group_by)['WorkedHours'].sum()}).reset_index()\n",
    "shift_for_report_unique"
   ]
  },
  {
   "cell_type": "markdown",
   "metadata": {},
   "source": [
    "## Запись в Excel"
   ]
  },
  {
   "cell_type": "code",
   "execution_count": null,
   "metadata": {},
   "outputs": [],
   "source": [
    "sheet_name = 'shift_report'\n",
    "work_book = openpyxl.load_workbook(file_name)\n",
    "\n",
    "with pd.ExcelWriter(file_name, engine='openpyxl', mode='a', datetime_format='DD/MM') as writer:\n",
    "    writer.book = work_book\n",
    "    \n",
    "    for obj in shift_for_report_unique['ObjectName']:\n",
    "        month_report_obj = create_month_report(shift_for_report, obj)\n",
    "        \n",
    "        partner_id = int(shift_for_report_unique[shift_for_report_unique['ObjectName'] == obj]['Partner'])\n",
    "        partner = shift_for_report_unique[shift_for_report_unique['ObjectName'] == obj]['PartnerName'].values[0]\n",
    "        address = shift_for_report_unique[shift_for_report_unique['ObjectName'] == obj]['ObjectAddress'].values[0]\n",
    "        cur_sheet_name = f'{sheet_name}_{partner_id}'\n",
    "        \n",
    "        work_book.create_sheet(cur_sheet_name)\n",
    "        sheet = work_book[cur_sheet_name]\n",
    "        writer.sheets = dict((ws.title, ws) for ws in work_book.worksheets)\n",
    "        \n",
    "        row = 1\n",
    "        sheet.cell(row=row, column=1).value = f'Лист учета рабочего времени {months[month]} {year}'\n",
    "        sheet.cell(row=row, column=1).font = font_title\n",
    "        row += 1\n",
    "        sheet.cell(row=row, column=1).value = f'Дата формирования отчета: '\n",
    "        sheet.cell(row=row, column=2).value = f'{today:%d.%m.%Y}'\n",
    "        row += 1\n",
    "        sheet.cell(row=row, column=1).value = 'ПАРТНЕР'\n",
    "        sheet.cell(row=row, column=1).font = font_title\n",
    "        sheet.cell(row=row, column=2).value = partner\n",
    "        row += 1\n",
    "        sheet.cell(row=row, column=1).value = 'ОБЪЕКТ'\n",
    "        sheet.cell(row=row, column=1).font = font_title\n",
    "        sheet.cell(row=row, column=2).value = obj\n",
    "        row += 1\n",
    "        sheet.cell(row=row, column=1).value = 'АДРЕС ОБЪЕКТА'\n",
    "        sheet.cell(row=row, column=1).font = font_title\n",
    "        sheet.cell(row=row, column=2).value = address\n",
    "        row += 1\n",
    "        \n",
    "        month_report_obj.to_excel(writer, cur_sheet_name, startrow=row)\n",
    "        row += 1\n",
    "        sheet.cell(row=row, column=1).value = 'ФИО сотрудника'\n",
    "        \n",
    "        sheet.insert_rows(row + 1)\n",
    "        for i, cell in enumerate(sheet[row + 1]):\n",
    "            if i < 2:\n",
    "                continue\n",
    "            weekday = int(f'{sheet.cell(row=row, column=i + 1).value:%w}')\n",
    "            weekday = weekdays[weekday]\n",
    "            cell.value = weekday\n",
    "        \n",
    "        for i, _ in enumerate(sheet):\n",
    "            sheet.cell(row=i + 1, column=1).alignment = Alignment(horizontal='left')\n",
    "            \n",
    "        res = [(1, 'ИТОГО ЧАСОВ')] + list((i + 2, sum(month_report_obj[column])) for i, column in enumerate(month_report_obj.columns))\n",
    "        add_result(sheet, row + month_report_obj.shape[0] + 2, *res)\n",
    "        \n",
    "        for i, cell in enumerate(sheet[row]):\n",
    "            if i < 2:\n",
    "                continue\n",
    "            cell.value = f'{cell.value:%d.%m}'\n",
    "        auto_dimension(sheet, n_row=row - 1)\n",
    "        \n",
    "        table_report_style(sheet, row, row + month_report_obj.shape[0] + 2, month_report_obj.shape[1] + 1, \n",
    "                           formatting=True, is_result_style=[True, True])\n",
    "        \n",
    "        margin = shift_for_report[shift_for_report['ObjectName'] == obj][['Date', \n",
    "                                                                          'Price_total']].groupby(['Date']).agg('sum').reset_index()\n",
    "        done = done_for_report[done_for_report['ObjectName'] == obj][['Date', \n",
    "                                                                      'ResultOfShift_total']].groupby(['Date']).agg('sum').reset_index()\n",
    "        res_margin = [(1, 'ИТОГО ВЫРУЧКА'), (2, sum(margin['Price_total']))]\n",
    "        res_done = [(1, 'ВЫПЛАЧЕНО ЗАКАЗЧИКОМ'), (2, sum(done['ResultOfShift_total']))]\n",
    "        for i, date in enumerate(month_report_obj.columns[1:]):\n",
    "            if date in list(margin['Date']):\n",
    "                res_margin += [(i + 3, margin[margin['Date'] == date]['Price_total'].values[0])]\n",
    "            else:\n",
    "                res_margin += [(i + 3, 0)]\n",
    "            if date in list(done['Date']):\n",
    "                res_done += [(i + 3, done[done['Date'] == date]['ResultOfShift_total'].values[0])]\n",
    "            else:\n",
    "                res_done += [(i + 3, 0)]\n",
    "        \n",
    "        add_result(sheet, row + month_report_obj.shape[0] + 3, *res_margin)\n",
    "        result_style(sheet[row + month_report_obj.shape[0] + 3], month_report_obj.shape[1] + 1, last_res=True)\n",
    "        add_result(sheet, row + month_report_obj.shape[0] + 4, *res_done)\n",
    "        result_style(sheet[row + month_report_obj.shape[0] + 4], month_report_obj.shape[1] + 1, last_res=True)\n",
    "        \n",
    "work_book.save(file_name)"
   ]
  },
  {
   "cell_type": "markdown",
   "metadata": {},
   "source": [
    "# Валовая прибыль\n",
    "### Прошлая неделя"
   ]
  },
  {
   "cell_type": "code",
   "execution_count": null,
   "metadata": {},
   "outputs": [],
   "source": [
    "group_by = ['PartnerName', 'Partner']\n",
    "column = group_by + ['ResultOfShift_total', 'Price_total', 'Margin', 'Vydanonalichnymi']\n",
    "\n",
    "gross_margin = shift_result[(shift_result['Type'] == 126) & \n",
    "                            (shift_result['Date'] >= start_last_week) & \n",
    "                            (shift_result['Date'] <= end_last_week)]\n",
    "gross_margin = gross_margin[column].groupby(group_by).agg('sum').reset_index()\n",
    "\n",
    "gross_margin['City'] = [partners[partners['Id'] == x]['Gorod'].values.item(0)\n",
    "                        if pd.notna(x) else ''\n",
    "                        for x in gross_margin['Partner']]\n",
    "gross_margin['City'] = [base_city[base_city['Id'] == x]['Name'].values.item(0)\n",
    "                        if pd.notna(x) else ''\n",
    "                        for x in gross_margin['City']]\n",
    "\n",
    "drop = ['Partner']\n",
    "gross_margin.drop(drop, axis=1, inplace=True)\n",
    "\n",
    "gross_margin.sort_values(by=['Margin'], ascending=False, inplace=True)\n",
    "gross_margin = gross_margin.rename(columns={'PartnerName': 'Заказчик', 'ResultOfShift_total': 'Себестоимость', \n",
    "                                            'Price_total': 'Выручка', 'Margin': 'Валовая прибыль', 'Vydanonalichnymi': 'Выплачено', \n",
    "                                            'City': 'Город'})\n",
    "column = ['Город', 'Заказчик', 'Себестоимость', 'Выручка', 'Валовая прибыль', 'Выплачено']\n",
    "gross_margin = gross_margin[column]\n",
    "gross_margin"
   ]
  },
  {
   "cell_type": "markdown",
   "metadata": {},
   "source": [
    "### Месяц"
   ]
  },
  {
   "cell_type": "code",
   "execution_count": null,
   "metadata": {},
   "outputs": [],
   "source": [
    "group_by = ['PartnerName', 'Partner']\n",
    "column = group_by + ['ResultOfShift_total', 'Price_total', 'Margin', 'Vydanonalichnymi']\n",
    "\n",
    "gross_margin_month = shift_result[(shift_result['Type'] == 126) & \n",
    "                            (shift_result['month'] == month)]\n",
    "gross_margin_month = gross_margin_month[column].groupby(group_by).agg('sum').reset_index()\n",
    "\n",
    "gross_margin_month['City'] = [partners[partners['Id'] == x]['Gorod'].values.item(0)\n",
    "                              if pd.notna(x) else ''\n",
    "                              for x in gross_margin_month['Partner']]\n",
    "gross_margin_month['City'] = [base_city[base_city['Id'] == x]['Name'].values.item(0)\n",
    "                              if pd.notna(x) else ''\n",
    "                              for x in gross_margin_month['City']]\n",
    "\n",
    "drop = ['Partner']\n",
    "gross_margin_month.drop(drop, axis=1, inplace=True)\n",
    "\n",
    "gross_margin_month.sort_values(by=['Margin'], ascending=False, inplace=True)\n",
    "gross_margin_month = gross_margin_month.rename(columns={'PartnerName': 'Заказчик', 'ResultOfShift_total': 'Себестоимость', \n",
    "                                                        'Price_total': 'Выручка', 'Margin': 'Валовая прибыль',\n",
    "                                                        'Vydanonalichnymi': 'Выплачено', 'City': 'Город'})\n",
    "column = ['Город', 'Заказчик', 'Себестоимость', 'Выручка', 'Валовая прибыль', 'Выплачено']\n",
    "gross_margin_month = gross_margin_month[column]\n",
    "gross_margin_month"
   ]
  },
  {
   "cell_type": "markdown",
   "metadata": {},
   "source": [
    "## Записть в Excel"
   ]
  },
  {
   "cell_type": "code",
   "execution_count": null,
   "metadata": {},
   "outputs": [],
   "source": [
    "file_name = f'{today:%Y-%m-%d}. margin.xlsx'\n",
    "sheet_name = 'gross_margin_month'\n",
    "\n",
    "work_book = openpyxl.Workbook()\n",
    "sheet = work_book.active\n",
    "sheet.title = sheet_name\n",
    "\n",
    "work_book.save(file_name)"
   ]
  },
  {
   "cell_type": "code",
   "execution_count": null,
   "metadata": {},
   "outputs": [],
   "source": [
    "work_book = openpyxl.load_workbook(file_name)\n",
    "sheet = work_book[sheet_name]\n",
    "\n",
    "row = 1\n",
    "row = gross_record(gross_margin_month, sheet, file_name, work_book, is_month=True)\n",
    "\n",
    "sheet_name = 'gross_margin'\n",
    "work_book.create_sheet(sheet_name)\n",
    "sheet = work_book[sheet_name]\n",
    "\n",
    "row = gross_record(gross_margin, sheet, file_name, work_book)\n",
    "        \n",
    "work_book.save(file_name)"
   ]
  },
  {
   "cell_type": "code",
   "execution_count": null,
   "metadata": {},
   "outputs": [],
   "source": [
    "print(f'Скрипт закончил работу. Сформирован файл \"{file_name}\"')"
   ]
  },
  {
   "cell_type": "code",
   "execution_count": null,
   "metadata": {},
   "outputs": [],
   "source": []
  }
 ],
 "metadata": {
  "kernelspec": {
   "display_name": "Python (Conda)",
   "language": "python",
   "name": "conda"
  },
  "language_info": {
   "codemirror_mode": {
    "name": "ipython",
    "version": 3
   },
   "file_extension": ".py",
   "mimetype": "text/x-python",
   "name": "python",
   "nbconvert_exporter": "python",
   "pygments_lexer": "ipython3",
   "version": "3.7.4"
  }
 },
 "nbformat": 4,
 "nbformat_minor": 4
}
