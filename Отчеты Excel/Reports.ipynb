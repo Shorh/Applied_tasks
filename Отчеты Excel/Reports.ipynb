{
 "cells": [
  {
   "cell_type": "code",
   "execution_count": null,
   "metadata": {},
   "outputs": [],
   "source": [
    "import pandas as pd\n",
    "import numpy as np\n",
    "\n",
    "from data import constants\n",
    "from data.table_create import ReportTables\n",
    "from data.table_write_to_excel import WriteMarginTables, WriteReportTables\n",
    "\n",
    "pd.options.display.max_columns = 100"
   ]
  },
  {
   "cell_type": "markdown",
   "metadata": {},
   "source": [
    "# ЗП ведомость + Табель"
   ]
  },
  {
   "cell_type": "markdown",
   "metadata": {},
   "source": [
    "## Таблицы с ведомостями"
   ]
  },
  {
   "cell_type": "code",
   "execution_count": null,
   "metadata": {},
   "outputs": [],
   "source": [
    "report_tables = ReportTables()\n",
    "tables_for_report = report_tables.get_tables_for_report()\n",
    "shift_for_report = tables_for_report['shift_for_report']\n",
    "first_sheet_name = 'salary_record'\n",
    "\n",
    "for city in shift_for_report['City'].unique():\n",
    "    salary_table = report_tables.get_salary_table(city)\n",
    "    file_name = f'{constants.TODAY:%Y-%m-%d}. salary. {city}.xlsx'\n",
    "    table_of_objects = report_tables.get_table_of_objects(city)\n",
    "    \n",
    "    write_report_tables = WriteReportTables(file_name=file_name, first_sheet_name=first_sheet_name)\n",
    "    write_report_tables.write_weekly_report(city, salary_table)\n",
    "    \n",
    "    for month in shift_for_report['month'].unique():\n",
    "        for obj_id in table_of_objects['ObjectId']:\n",
    "            if shift_for_report[(shift_for_report['ObjectId'] == obj_id) & (shift_for_report['month'] == month)].shape[0] != 0:\n",
    "                write_report_tables.write_month_report(tables_for_report=tables_for_report, obj_id=obj_id, month=month)"
   ]
  },
  {
   "cell_type": "markdown",
   "metadata": {},
   "source": [
    "# Валовая прибыль\n",
    "### Прошлая неделя"
   ]
  },
  {
   "cell_type": "code",
   "execution_count": null,
   "metadata": {},
   "outputs": [],
   "source": [
    "group_by = ['PartnerName', 'Partner']\n",
    "column = group_by + ['ResultOfShift_total', 'Price_total', 'Margin', 'Vydanonalichnymi']\n",
    "\n",
    "gross_margin = shift_result[(shift_result['Type'] == 126) & \n",
    "                            (shift_result['Date'] >= constants.START_LAST_WEEK) & \n",
    "                            (shift_result['Date'] <= constants.END_LAST_WEEK)]\n",
    "gross_margin = gross_margin[column].groupby(group_by).agg('sum').reset_index()\n",
    "\n",
    "gross_margin['City'] = [partners[partners['Id'] == x]['Gorod'].values.item(0)\n",
    "                        if pd.notna(x) else ''\n",
    "                        for x in gross_margin['Partner']]\n",
    "gross_margin['City'] = [base_city[base_city['Id'] == x]['Name'].values.item(0)\n",
    "                        if pd.notna(x) else ''\n",
    "                        for x in gross_margin['City']]\n",
    "\n",
    "drop = ['Partner']\n",
    "gross_margin.drop(drop, axis=1, inplace=True)\n",
    "\n",
    "gross_margin.sort_values(by=['Margin'], ascending=False, inplace=True)\n",
    "gross_margin = gross_margin.rename(columns={'PartnerName': 'Заказчик', 'ResultOfShift_total': 'Себестоимость', \n",
    "                                            'Price_total': 'Выручка', 'Margin': 'Валовая прибыль', 'Vydanonalichnymi': 'Выплачено', \n",
    "                                            'City': 'Город'})\n",
    "column = ['Город', 'Заказчик', 'Себестоимость', 'Выручка', 'Валовая прибыль', 'Выплачено']\n",
    "gross_margin = gross_margin[column]\n",
    "gross_margin"
   ]
  },
  {
   "cell_type": "markdown",
   "metadata": {},
   "source": [
    "### Месяц"
   ]
  },
  {
   "cell_type": "code",
   "execution_count": null,
   "metadata": {},
   "outputs": [],
   "source": [
    "group_by = ['PartnerName', 'Partner', 'month']\n",
    "column = group_by + ['ResultOfShift_total', 'Price_total', 'Margin', 'Vydanonalichnymi']\n",
    "\n",
    "gross_margin_month = shift_result[(shift_result['Type'] == 126) & \n",
    "                            ((shift_result['month'] == constants.MONTH_START) | (shift_result['month'] == constants.MONTH_END))]\n",
    "gross_margin_month = gross_margin_month[column].groupby(group_by).agg('sum').reset_index()\n",
    "\n",
    "gross_margin_month['City'] = [partners[partners['Id'] == x]['Gorod'].values.item(0)\n",
    "                              if pd.notna(x) else ''\n",
    "                              for x in gross_margin_month['Partner']]\n",
    "gross_margin_month['City'] = [base_city[base_city['Id'] == x]['Name'].values.item(0)\n",
    "                              if pd.notna(x) else ''\n",
    "                              for x in gross_margin_month['City']]\n",
    "\n",
    "drop = ['Partner']\n",
    "gross_margin_month.drop(drop, axis=1, inplace=True)\n",
    "\n",
    "gross_margin_month.sort_values(by=['Margin'], ascending=False, inplace=True)\n",
    "gross_margin_month = gross_margin_month.rename(columns={'PartnerName': 'Заказчик', 'ResultOfShift_total': 'Себестоимость', \n",
    "                                                        'Price_total': 'Выручка', 'Margin': 'Валовая прибыль',\n",
    "                                                        'Vydanonalichnymi': 'Выплачено', 'City': 'Город'})\n",
    "column = ['Город', 'Заказчик', 'Себестоимость', 'Выручка', 'Валовая прибыль', 'Выплачено', 'month']\n",
    "gross_margin_month = gross_margin_month[column]\n",
    "gross_margin_month"
   ]
  },
  {
   "cell_type": "markdown",
   "metadata": {},
   "source": [
    "## Записть в Excel"
   ]
  },
  {
   "cell_type": "code",
   "execution_count": null,
   "metadata": {},
   "outputs": [],
   "source": [
    "file_name = f'{constants.TODAY:%Y-%m-%d}. margin.xlsx'\n",
    "sheet_name = 'gross_margin'\n",
    "\n",
    "work_book = openpyxl.Workbook()\n",
    "sheet = work_book.active\n",
    "sheet.title = sheet_name\n",
    "\n",
    "work_book.save(file_name)"
   ]
  },
  {
   "cell_type": "code",
   "execution_count": null,
   "metadata": {},
   "outputs": [],
   "source": [
    "work_book = openpyxl.load_workbook(file_name)\n",
    "\n",
    "for month in gross_margin_month['month'].unique():\n",
    "    cur_sheet_name = f'{sheet_name}_month_{month}'\n",
    "\n",
    "    work_book.create_sheet(cur_sheet_name)\n",
    "    sheet = work_book[cur_sheet_name]\n",
    "\n",
    "    write_excel.gross_record(gross_margin_month[gross_margin_month['month'] == month], sheet, file_name, work_book, month=month)\n",
    "\n",
    "sheet = work_book[sheet_name]\n",
    "write_excel.gross_record(gross_margin, sheet, file_name, work_book)\n",
    "        \n",
    "work_book.save(file_name)"
   ]
  },
  {
   "cell_type": "code",
   "execution_count": null,
   "metadata": {},
   "outputs": [],
   "source": [
    "print(f'Скрипт закончил работу. Сформирован файл \"{file_name}\"')"
   ]
  }
 ],
 "metadata": {
  "kernelspec": {
   "display_name": "Python (Conda)",
   "language": "python",
   "name": "conda"
  },
  "language_info": {
   "codemirror_mode": {
    "name": "ipython",
    "version": 3
   },
   "file_extension": ".py",
   "mimetype": "text/x-python",
   "name": "python",
   "nbconvert_exporter": "python",
   "pygments_lexer": "ipython3",
   "version": "3.7.4"
  }
 },
 "nbformat": 4,
 "nbformat_minor": 4
}
