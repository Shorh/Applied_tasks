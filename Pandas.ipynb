{
 "cells": [
  {
   "cell_type": "code",
   "execution_count": 2,
   "metadata": {
    "slideshow": {
     "slide_type": "-"
    }
   },
   "outputs": [],
   "source": [
    "import pandas as pd\n",
    "import numpy as np\n",
    "import os\n",
    "import sys\n",
    "\n",
    "# будем отображать графики прямо в jupyter'e\n",
    "%matplotlib inline\n",
    "import seaborn as sns\n",
    "import matplotlib.pyplot as plt\n",
    "#графики в svg выглядят более четкими\n",
    "%config InlineBackend.figure_format = 'svg' \n",
    "\n",
    "from textwrap import wrap\n",
    "import humanize"
   ]
  },
  {
   "cell_type": "code",
   "execution_count": 166,
   "metadata": {},
   "outputs": [],
   "source": [
    "#увеличим дефолтный размер графиков\n",
    "from pylab import rcParams\n",
    "rcParams['figure.figsize'] = 15, 5"
   ]
  },
  {
   "cell_type": "code",
   "execution_count": 3,
   "metadata": {},
   "outputs": [],
   "source": [
    "pd.set_option('display.max_columns', 100)\n",
    "pd.set_option('display.max_rows', 100)"
   ]
  },
  {
   "cell_type": "code",
   "execution_count": 4,
   "metadata": {},
   "outputs": [],
   "source": [
    "folder = '/Users/ghost/PycharmProjects/Rusagro/Data'"
   ]
  },
  {
   "cell_type": "markdown",
   "metadata": {},
   "source": [
    "# Справочник по номенклатуре SKU"
   ]
  },
  {
   "cell_type": "markdown",
   "metadata": {},
   "source": [
    "Читаем из файла таблицу с Номенклатурой SKU и удаляем ненужные поля:"
   ]
  },
  {
   "cell_type": "code",
   "execution_count": null,
   "metadata": {},
   "outputs": [],
   "source": [
    "file_name = 'Номенклатура.xlsx'\n",
    "path = os.path.join(folder, file_name)\n",
    "dtypes = {'Код товара': str}\n",
    "SKU = pd.read_excel(path, header=0, dtype=dtypes)\n",
    "\n",
    "drop = ['Категория + бренд', 'Категория расширенная']\n",
    "SKU.drop(drop, axis=1, inplace=True)\n",
    "\n",
    "SKU[:3]"
   ]
  },
  {
   "cell_type": "markdown",
   "metadata": {},
   "source": [
    "# Справочник по клиентам (объединенный с региональной структурой)"
   ]
  },
  {
   "cell_type": "markdown",
   "metadata": {},
   "source": [
    "Читаем данные из файла с Региональной структурой и удаляем ненужные поля.  \n",
    "Нам необходима информация, которой нет в справочнике Клиенты:  \n",
    "* Области РФ  \n",
    "* Канал продаж  \n",
    "* РФ\\Экспорт  \n",
    "  \n",
    "\"Техническая область\" - ключевое поле, по которому остальные данные будут подгружаться в справочник по Клиентам:"
   ]
  },
  {
   "cell_type": "code",
   "execution_count": null,
   "metadata": {},
   "outputs": [],
   "source": [
    "file_name = 'Региональная структура.xlsx'\n",
    "path = os.path.join(folder, file_name)\n",
    "geography = pd.read_excel(path, header=0)\n",
    "\n",
    "drop = ['Склад отгрузки', 'Торговая сеть', 'Дивизион', 'Страна']\n",
    "geography.drop(drop, axis=1, inplace=True)\n",
    "\n",
    "geography['Техническая область'] = geography['Техническая область'].str.lower()\n",
    "\n",
    "geography.head()"
   ]
  },
  {
   "cell_type": "markdown",
   "metadata": {},
   "source": [
    "Читаем данные из файла со справочником по Клиентам, удаляем ненужные поля, которые дальше не будем использовать.  \n",
    "Добавляем по полю \"Техническая область\" данные из Региональной структуры. Больше нам это поле не понадобится - удаляем:"
   ]
  },
  {
   "cell_type": "code",
   "execution_count": null,
   "metadata": {},
   "outputs": [],
   "source": [
    "file_name = 'Клиенты.xlsx'\n",
    "path = os.path.join(folder, file_name)\n",
    "client = pd.read_excel(path, header=0)\n",
    "\n",
    "drop = ['Адрес', 'Склад отгрузки', 'Статус проверки', 'Канал сбыта']\n",
    "\n",
    "client.drop(drop, axis=1, inplace=True)\n",
    "client['Техническая область'] = client['Техническая область'].str.lower()\n",
    "\n",
    "client = client.merge(geography, on='Техническая область', how='left', validate='m:1')\n",
    "client.drop(['Техническая область'], axis=1, inplace=True)\n",
    "\n",
    "client.head()"
   ]
  },
  {
   "cell_type": "markdown",
   "metadata": {},
   "source": [
    "# Факт"
   ]
  },
  {
   "cell_type": "markdown",
   "metadata": {},
   "source": [
    "Читаем из файлов данные по факту и сразу добавляем в итоговую таблицу поля \"Год\", \"Месяц\" и \"Неделя\" для дальнейшего анализа:"
   ]
  },
  {
   "cell_type": "code",
   "execution_count": 8,
   "metadata": {},
   "outputs": [],
   "source": [
    "dtypes = {'Код клиента': str, 'Код товара': str, 'Объем': float}\n",
    "\n",
    "for i in range(4):\n",
    "    file_name = \"Факт \" + str(i + 1) + '.xlsx'\n",
    "    path = os.path.join(folder, file_name)\n",
    "    \n",
    "    if i == 0:\n",
    "        fact = pd.read_excel(path, header=0, dtype=dtypes)\n",
    "    else:\n",
    "        fact = fact.append(pd.read_excel(path, header=0, dtype=dtypes), ignore_index=True)"
   ]
  },
  {
   "cell_type": "code",
   "execution_count": 9,
   "metadata": {},
   "outputs": [],
   "source": [
    "fact['Месяц'] = fact['Дата'].dt.month\n",
    "fact['Год'] = fact['Дата'].dt.year\n",
    "# fact['Неделя'] = fact['Дата'].dt.week"
   ]
  },
  {
   "cell_type": "code",
   "execution_count": null,
   "metadata": {},
   "outputs": [],
   "source": [
    "fact.head()"
   ]
  },
  {
   "cell_type": "markdown",
   "metadata": {},
   "source": [
    "Добавляем данные в таблицу Факт по географии (исходя из кода грузополучателя) и по товару (исходя из кода товара):"
   ]
  },
  {
   "cell_type": "code",
   "execution_count": 11,
   "metadata": {},
   "outputs": [],
   "source": [
    "fact_merge = fact.merge(client, on='Код клиента', how='left', validate='m:1')\n",
    "fact_merge = fact_merge.merge(SKU, on='Код товара', how='left', validate='m:1')\n",
    "fact_merge = fact_merge[pd.notna(fact_merge['Регион'])]\n",
    "\n",
    "fact_merge.fillna('', inplace=True)\n",
    "\n",
    "# fact_merge[pd.isna(fact_merge['Страна'])]\n",
    "# fact_merge.info()"
   ]
  },
  {
   "cell_type": "markdown",
   "metadata": {},
   "source": [
    "Группируем данные до необходимых полей (аналог сводной таблицы), сократив данные до областей и продажи до объемов месяца.  \n",
    "Итоговую размерность таблицы задает сочетание полей \"Область - Месяц - товар\".  \n",
    "Это будет итоговая таблица для анализа:"
   ]
  },
  {
   "cell_type": "code",
   "execution_count": null,
   "metadata": {},
   "outputs": [],
   "source": [
    "group_by = ['РФ/Экспорт', 'Канал продаж', 'Регион', 'Страна', 'Месяц', 'Год', \n",
    "            'Код товара', 'Наименование товара', 'Категория', 'Бренд']\n",
    "\n",
    "fact_group = pd.DataFrame({'Объем' : fact_merge.groupby(group_by)['Объем'].sum()}).reset_index()\n",
    "fact_group[:3]"
   ]
  },
  {
   "cell_type": "markdown",
   "metadata": {
    "toc-hr-collapsed": false
   },
   "source": [
    "# Аналитика факта продаж \"На первый взгляд\". Общие данные"
   ]
  },
  {
   "cell_type": "markdown",
   "metadata": {},
   "source": [
    "---  \n",
    "Какая область продавала **наибольшее количество СКЮ в наибольшее количество месяцев** (максимальное количество строк \"месяц - СКЮ\" среди областей)"
   ]
  },
  {
   "cell_type": "code",
   "execution_count": null,
   "metadata": {},
   "outputs": [],
   "source": [
    "print(f\"Колчиество территорий, в которые были продажи: {fact_group['Область РФ/Страна'].nunique()}\")\n",
    "print(f\"Территория с наибольшим ассортиментом и наибольшим периодом продаж: {fact_group['Область РФ/Страна'].describe().top}\")"
   ]
  },
  {
   "cell_type": "markdown",
   "metadata": {},
   "source": [
    "---  \n",
    "Какое СКЮ продаваось с **наибольшей географии в наибольшее количество месяцев** (максимальное количество строк \"месяц - область РФ\\страна Экспорта\" среди СКЮ)"
   ]
  },
  {
   "cell_type": "code",
   "execution_count": null,
   "metadata": {},
   "outputs": [],
   "source": [
    "print(f\"Колчиество наименований товара, которые были проданы: {fact_group['Наименование товара'].nunique()}\")\n",
    "print(f\"Товар с наибольшей географией и наибольшим периодом продаж: {fact_group['Наименование товара'].describe().top}\")\n",
    "# fact_group['Наименование товара'].describe()"
   ]
  },
  {
   "cell_type": "markdown",
   "metadata": {},
   "source": [
    "---  \n",
    "Продажи **Бренда** по убыванию в виде таблицы"
   ]
  },
  {
   "cell_type": "code",
   "execution_count": null,
   "metadata": {},
   "outputs": [],
   "source": [
    "fact_group_ex = pd.DataFrame({'Объем' : fact_group[(fact_group['Категория'] == 'Категория') &\n",
    "                                                   (fact_group['Бренд'] == 'Бренд')].groupby(['Регион'])['Объем'].sum()}).reset_index()\n",
    "\n",
    "fact_group_ex['Доля'] = fact_group_ex['Объем'] / fact_group_ex['Объем'].sum()\n",
    "fact_group_ex.sort_values(by='Объем', ascending=False, inplace=True)\n",
    "fact_group_ex.reset_index(inplace=True)\n",
    "fact_group_ex"
   ]
  },
  {
   "cell_type": "markdown",
   "metadata": {},
   "source": [
    "То же самое на графике"
   ]
  },
  {
   "cell_type": "code",
   "execution_count": null,
   "metadata": {},
   "outputs": [],
   "source": [
    "fact_group_ex = fact_group_ex.loc[:, ['Регион', 'Объем']].head(10)\n",
    "fact_group_ex['Регион'] = ['\\n'.join(wrap(l, 8)) for l in fact_group_ex['Регион']]\n",
    "\n",
    "fig = plt.figure()\n",
    "axes = fig.add_axes([0.1, 0.1, 0.7, 0.8]) # left, bottom, width, height (range 0 to 1)\n",
    "axes.bar(fact_group_ex['Регион'], fact_group_ex['Объем'])\n",
    "axes.set_xlabel('Регион', weight='bold')\n",
    "axes.grid(color='gray', alpha=0.5, linestyle='dashed', linewidth=0.5)\n",
    "\n",
    "for i, j in zip(fact_group_ex['Регион'], fact_group_ex['Объем']):\n",
    "    axes.annotate(humanize.intcomma(round(j)).replace(',', ' '), xy=(i, j))"
   ]
  },
  {
   "cell_type": "markdown",
   "metadata": {},
   "source": [
    "---  \n",
    "Динамика продаж **Категория Бренд** по годам"
   ]
  },
  {
   "cell_type": "code",
   "execution_count": null,
   "metadata": {},
   "outputs": [],
   "source": [
    "fact_group_ex = pd.DataFrame({'Объем' : fact_group[(fact_group['Категория'] == 'Категория') &\n",
    "                                                   (fact_group['Бренд'] == 'Бренд')].groupby(['Месяц', 'Год'])['Объем'].sum()}).reset_index()\n",
    "\n",
    "fact_group_ex = pd.crosstab(fact_group_ex['Месяц'], fact_group_ex['Год'], fact_group_ex['Объем'], aggfunc=sum)\n",
    "fact_group_ex.plot()\n",
    "# fact_group_ex.plot(kind='area')\n",
    "# fact_group_ex.plot(kind='bar', rot=0)\n",
    "# fact_group_ex.plot(kind='pie', subplots=True)"
   ]
  },
  {
   "cell_type": "markdown",
   "metadata": {},
   "source": [
    "***\n",
    "Связь между собой различных признаков на примере долей отгрузок в Страну1, Страну2 и Страну3 Категории по брендам в разрезе месяцев и лет  \n",
    "Исходная таблица данных выглядит следующим образом:"
   ]
  },
  {
   "cell_type": "code",
   "execution_count": null,
   "metadata": {},
   "outputs": [],
   "source": [
    "fact_group_ex = pd.DataFrame({'Объем' : fact_group[(fact_group['Категория'] == 'Категория')\n",
    "                                                  ].groupby(['Страна', 'Год', 'Месяц', 'SKU: бренд'])['Объем'].sum()}).reset_index()\n",
    "\n",
    "fact_group_ex = fact_group_ex[(fact_group_ex['Страна'] == 'Страна1') | \n",
    "                              (fact_group_ex['Страна'] == 'Страна2') | \n",
    "                              (fact_group_ex['Страна'] == 'Страна3')]\n",
    "fact_group_ex = pd.crosstab(index=[fact_group_ex['Год'], fact_group_ex['Месяц'], fact_group_ex['Бренд']], \n",
    "                            columns=fact_group_ex['Страна'], values=fact_group_ex['Объем'], aggfunc=sum).reset_index().fillna(0)\n",
    "fact_group_ex.head()"
   ]
  },
  {
   "cell_type": "markdown",
   "metadata": {},
   "source": [
    "Таблица с нормализованными данными (по строчкам сумма равна 100%)"
   ]
  },
  {
   "cell_type": "code",
   "execution_count": null,
   "metadata": {},
   "outputs": [],
   "source": [
    "fact_group_ex = pd.DataFrame({'Объем' : fact_group[(fact_group['Категория'] == 'Категория')\n",
    "                                                  ].groupby(['Страна', 'Год', 'Месяц', 'Бренд'])['Объем'].sum()}).reset_index()\n",
    "\n",
    "fact_group_ex = fact_group_ex[(fact_group_ex['Страна'] == 'Страна1') | \n",
    "                              (fact_group_ex['Страна'] == 'Страна2') | \n",
    "                              (fact_group_ex['Страна'] == 'Страна3')]\n",
    "fact_group_ex = pd.crosstab(index=[fact_group_ex['Год'], fact_group_ex['Месяц'], fact_group_ex['Бренд']], \n",
    "                            columns=fact_group_ex['Страна'], values=fact_group_ex['Объем'], aggfunc=sum, normalize='index').reset_index().fillna(0)\n",
    "fact_group_ex.head()"
   ]
  },
  {
   "cell_type": "markdown",
   "metadata": {},
   "source": [
    "График зависимостей полученных данных"
   ]
  },
  {
   "cell_type": "code",
   "execution_count": null,
   "metadata": {},
   "outputs": [],
   "source": [
    "fact_group_ex = pd.DataFrame({'Объем' : fact_group[(fact_group['Категория'] == 'Категория')\n",
    "                                                  ].groupby(['Страна', 'Год', 'Месяц', 'Бренд'])['Объем'].sum()}).reset_index()\n",
    "\n",
    "fact_group_ex = fact_group_ex[(fact_group_ex['Страна'] == 'Страна1') | \n",
    "                              (fact_group_ex['Страна'] == 'Страна2') | \n",
    "                              (fact_group_ex['Страна'] == 'Страна3')]\n",
    "fact_group_ex = pd.crosstab(index=[fact_group_ex['Год'], fact_group_ex['Месяц'], fact_group_ex['Бренд']], \n",
    "                            columns=fact_group_ex['Страна'], values=fact_group_ex['Объем'], aggfunc=sum, normalize='index').reset_index().fillna(0)\n",
    "\n",
    "fact_group_ex = fact_group_ex.loc[:, ['Бренд', 'Страна1', 'Страна2', 'Страна3']]\n",
    "fact_group_ex\n",
    "\n",
    "print(fact_group_ex.describe())\n",
    "sns.pairplot(fact_group_ex, hue='Бренд',  diag_kind='kde')"
   ]
  },
  {
   "cell_type": "markdown",
   "metadata": {},
   "source": [
    "---  \n",
    "Сводная таблица по продажам Категории в разрезе Регионов и брендов"
   ]
  },
  {
   "cell_type": "code",
   "execution_count": null,
   "metadata": {},
   "outputs": [],
   "source": [
    "fact_group_ex = pd.DataFrame({'Объем' : fact_group[(fact_group['Категория'] == 'Категория')\n",
    "                                                  ].groupby(['Регион', 'Бренд'])['Объем'].sum()}).reset_index()\n",
    "\n",
    "# Объем в тн\n",
    "fact_group_ex = pd.crosstab(fact_group_ex['Регион'], fact_group_ex['Бренд'], fact_group_ex['Объем'], \n",
    "                            aggfunc=sum, margins=True, margins_name='ИТОГО')\n",
    "fact_group_ex.fillna('')\n",
    "\n",
    "# Доля каждого региона внутри бренда\n",
    "# fact_group_ex = pd.crosstab(fact_group_ex['Регион'], fact_group_ex['Бренд'], fact_group_ex['Объем'], \n",
    "#                             aggfunc=sum, normalize='columns')\n",
    "# fact_group_ex.replace(to_replace=0, value='')"
   ]
  }
 ],
 "metadata": {
  "kernelspec": {
   "display_name": "Python 3",
   "language": "python",
   "name": "python3"
  },
  "language_info": {
   "codemirror_mode": {
    "name": "ipython",
    "version": 3
   },
   "file_extension": ".py",
   "mimetype": "text/x-python",
   "name": "python",
   "nbconvert_exporter": "python",
   "pygments_lexer": "ipython3",
   "version": "3.7.2"
  }
 },
 "nbformat": 4,
 "nbformat_minor": 2
}
