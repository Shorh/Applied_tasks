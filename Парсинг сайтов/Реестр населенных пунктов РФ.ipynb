{
 "cells": [
  {
   "cell_type": "code",
   "execution_count": 108,
   "metadata": {},
   "outputs": [],
   "source": [
    "import urllib\n",
    "import pymorphy2\n",
    "import pandas as pd\n",
    "import openpyxl\n",
    "\n",
    "from bs4 import BeautifulSoup"
   ]
  },
  {
   "cell_type": "code",
   "execution_count": 92,
   "metadata": {},
   "outputs": [],
   "source": [
    "base_url = 'http://www.oktmo.ru/locality_type_registry/'\n",
    "\n",
    "page = urllib.request.urlopen(base_url)\n",
    "soup = BeautifulSoup(page)\n",
    "\n",
    "type_cities = soup.find_all('p')\n",
    "for i, elem in enumerate(type_cities):\n",
    "    if ' - поиск по коду' in elem.text:\n",
    "        type_cities = type_cities[i + 1:]\n",
    "        break\n",
    "type_cities = [elem.contents[2][2:-1] for elem in type_cities]\n",
    "type_cities = sorted(type_cities, key=len, reverse=True)"
   ]
  },
  {
   "cell_type": "code",
   "execution_count": 93,
   "metadata": {},
   "outputs": [],
   "source": [
    "base_url = 'http://www.oktmo.ru/locality_registry'\n",
    "\n",
    "page = urllib.request.urlopen(base_url)\n",
    "soup = BeautifulSoup(page)\n",
    "\n",
    "pages_url = soup.find_all('p')\n",
    "for i, elem in enumerate(pages_url):\n",
    "    if ' - поиск по коду' in elem.text:\n",
    "        pages_url = pages_url[i + 1:]\n",
    "        break\n",
    "pages_url = [elem.contents for elem in pages_url]\n",
    "\n",
    "# morph = pymorphy2.MorphAnalyzer()\n",
    "for i, elem in enumerate(pages_url):\n",
    "    if ' Населенные пункты, входящие в состав муниципальных образований ' in pages_url[i][1]:\n",
    "        pages_url[i][1] = pages_url[i][1].replace(' Населенные пункты, входящие в состав муниципальных образований ', '')\n",
    "    elif ' Муниципальные районы и городские округа ' in pages_url[i][1]:\n",
    "        pages_url[i][1] = pages_url[i][1].replace(' Муниципальные районы и городские округа ', '')\n",
    "    \n",
    "#     normalized_name = []\n",
    "#     for word in pages_url[i][1].split():\n",
    "#         parsed_token = morph.parse(word)\n",
    "#         normal_form = parsed_token[0].normal_form\n",
    "#         normalized_name.append(normal_form)\n",
    "        \n",
    "#     pages_url[i][1] = ' '.join(normalized_name)\n",
    "    \n",
    "data_res = []\n",
    "\n",
    "for page_url, text in pages_url:\n",
    "    page = urllib.request.urlopen(page_url.a['href'])\n",
    "    soup = BeautifulSoup(page)\n",
    "    \n",
    "    data = soup.find_all('p')\n",
    "    for i, elem in enumerate(data):\n",
    "        if 'Найдено: ' in elem.text:\n",
    "            data = data[i + 1:]\n",
    "            break\n",
    "    for elem in data:\n",
    "        code = elem.text[:14]\n",
    "        city = elem.text[16:]\n",
    "        for type_city in type_cities:\n",
    "            if type_city in city:\n",
    "                city_type = type_city\n",
    "                city_name = city[len(city_type) + 1:]\n",
    "                break\n",
    "        else:\n",
    "            type_city = 'не найден'\n",
    "            name_city = city\n",
    "        data_res += [[code, city_type, city_name, text]]"
   ]
  },
  {
   "cell_type": "code",
   "execution_count": 102,
   "metadata": {},
   "outputs": [
    {
     "name": "stdout",
     "output_type": "stream",
     "text": [
      "<class 'pandas.core.frame.DataFrame'>\n",
      "Int64Index: 123920 entries, 0 to 156367\n",
      "Data columns (total 3 columns):\n",
      "Тип населенного пункта    123920 non-null object\n",
      "Наименование              123920 non-null object\n",
      "Субъект РФ                123920 non-null object\n",
      "dtypes: object(3)\n",
      "memory usage: 3.8+ MB\n"
     ]
    }
   ],
   "source": [
    "# for elem in data_res:\n",
    "#     if len(elem) != 4:\n",
    "#         print(elem)\n",
    "df = pd.DataFrame(data_res, columns=['Код', 'Тип населенного пункта', 'Наименование', 'Субъект РФ'])\n",
    "df = df[['Тип населенного пункта', 'Наименование', 'Субъект РФ']].drop_duplicates()\n",
    "df.info()"
   ]
  },
  {
   "cell_type": "code",
   "execution_count": 107,
   "metadata": {},
   "outputs": [],
   "source": [
    "# df.to_csv('Регистр населенных пунктов РФ.xlsx', sep=';', encoding='utf8', index=False)"
   ]
  },
  {
   "cell_type": "code",
   "execution_count": 114,
   "metadata": {},
   "outputs": [],
   "source": [
    "file_name = 'Регистр населенных пунктов РФ.xlsx'\n",
    "sheet_name = 'Sheet1'\n",
    "\n",
    "work_book = openpyxl.Workbook()\n",
    "sheet = work_book.active\n",
    "sheet.title = sheet_name\n",
    "work_book.save(file_name)\n",
    "\n",
    "work_book = openpyxl.load_workbook(file_name)\n",
    "sheet = work_book[sheet_name]\n",
    "\n",
    "with pd.ExcelWriter(file_name, engine='openpyxl', mode='a', datetime_format='DD.MM.YYYY') as writer:\n",
    "    writer.book = work_book\n",
    "    writer.sheets = dict((ws.title, ws) for ws in work_book.worksheets)\n",
    "    df.to_excel(writer, sheet_name='Sheet1', index=False)\n",
    "    \n",
    "work_book.save(file_name)"
   ]
  },
  {
   "cell_type": "code",
   "execution_count": null,
   "metadata": {},
   "outputs": [],
   "source": []
  }
 ],
 "metadata": {
  "kernelspec": {
   "display_name": "Python 3",
   "language": "python",
   "name": "python3"
  },
  "language_info": {
   "codemirror_mode": {
    "name": "ipython",
    "version": 3
   },
   "file_extension": ".py",
   "mimetype": "text/x-python",
   "name": "python",
   "nbconvert_exporter": "python",
   "pygments_lexer": "ipython3",
   "version": "3.7.4"
  }
 },
 "nbformat": 4,
 "nbformat_minor": 4
}
